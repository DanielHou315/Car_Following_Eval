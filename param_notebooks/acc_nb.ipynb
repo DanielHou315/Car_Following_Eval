{
 "cells": [
  {
   "cell_type": "markdown",
   "metadata": {},
   "source": [
    "# ACC Model Notebook (Done)"
   ]
  },
  {
   "cell_type": "code",
   "execution_count": 1,
   "metadata": {
    "tags": []
   },
   "outputs": [],
   "source": [
    "%load_ext autoreload\n",
    "%autoreload 2"
   ]
  },
  {
   "cell_type": "code",
   "execution_count": 2,
   "metadata": {
    "tags": []
   },
   "outputs": [
    {
     "name": "stderr",
     "output_type": "stream",
     "text": [
      "/miniconda/envs/SURE/lib/python3.11/site-packages/tslearn/bases/bases.py:15: UserWarning: h5py not installed, hdf5 features will not be supported.\n",
      "Install h5py to use hdf5 features: http://docs.h5py.org/\n",
      "  warn(h5py_msg)\n"
     ]
    },
    {
     "name": "stdout",
     "output_type": "stream",
     "text": [
      "Processing Congestion\n",
      "Processed 24 Congestions\n",
      "Saved Congestion File\n",
      "Processing Car Following\n",
      "Processed 60 cf_events\n",
      "Saved Car Following File\n",
      "Datast Loaded. Preview of dataset: \n",
      "   driver  trip  congestion  cf_idx  type    time  gmm_n_cluster  \\\n",
      "0       1    53           0       0     0  1698.8              4   \n",
      "1       1    53           0       0     0  1698.9              4   \n",
      "2       1    53           0       0     0  1699.0              4   \n",
      "3       1    53           0       0     0  1699.1              4   \n",
      "4       1    53           0       0     0  1699.2              4   \n",
      "\n",
      "   rank_0_cluster  rank_1_cluster  rank_2_cluster  ...  timeHeadway  VL_theta  \\\n",
      "0               2               1               0  ...     2.294240  0.137128   \n",
      "1               2               1               0  ...     2.304333  0.137128   \n",
      "2               2               1               0  ...     2.278744  0.138907   \n",
      "3               2               1               0  ...     2.277959  0.140121   \n",
      "4               2               1               0  ...     2.264021  0.141357   \n",
      "\n",
      "   VL_dtheta  lv_speed    lv_Ax  distanceCalibrated   lv_distance  \\\n",
      "0   0.009974    5.2847  0.00000        32923.113447  32937.675447   \n",
      "1   0.009974    5.2569 -0.27800        32923.743692  32938.305692   \n",
      "2   0.009632    5.3083  0.11800        32924.372831  32938.747831   \n",
      "3   0.009801    5.2556 -0.09700        32924.996713  32939.246713   \n",
      "4   0.010598    5.1764 -0.27075        32925.618930  32939.743930   \n",
      "\n",
      "   timeSinceCF  distanceSinceCF  lv_distanceSinceCF  \n",
      "0          0.0         0.000000           14.562000  \n",
      "1          0.1         0.630245           15.192245  \n",
      "2          0.2         1.259384           15.634384  \n",
      "3          0.3         1.883266           16.133266  \n",
      "4          0.4         2.505483           16.630483  \n",
      "\n",
      "[5 rows x 35 columns]\n"
     ]
    }
   ],
   "source": [
    "from data.param_data_loader2 import ParamDL2\n",
    "dataset = ParamDL2()\n",
    "\n",
    "# dataset.summarize()"
   ]
  },
  {
   "cell_type": "code",
   "execution_count": 3,
   "metadata": {
    "tags": []
   },
   "outputs": [],
   "source": [
    "outlier_seqs = [29, 30, 39, 45]\n",
    "\n",
    "# Import models, before other cells, so there is no need to rerun some tests\n",
    "from param_models import *\n",
    "model = BatchACC(dataset.cf_events, exclude_ids=outlier_seqs, mode='gpu')"
   ]
  },
  {
   "cell_type": "code",
   "execution_count": 4,
   "metadata": {
    "tags": []
   },
   "outputs": [
    {
     "name": "stderr",
     "output_type": "stream",
     "text": [
      "100%|██████████| 6278/6278 [00:03<00:00, 2083.43it/s]\n"
     ]
    },
    {
     "name": "stdout",
     "output_type": "stream",
     "text": [
      "ACC simulated in 3.0174820909742266 seconds\n",
      "ACC stats computed in 0.0022984170354902744 seconds\n",
      "Baseline parameters produced s_ego_pred_rmsne = tensor(0.6217)\n",
      "Graphing ACC\n"
     ]
    },
    {
     "name": "stderr",
     "output_type": "stream",
     "text": [
      "100%|██████████| 56/56 [00:38<00:00,  1.46it/s]\n"
     ]
    }
   ],
   "source": [
    "import time\n",
    "# Test using RMSE over Gap\n",
    "objective = \"s_ego_pred_rmsne\"\n",
    "\n",
    "# Simulate and verify that it works\n",
    "def_params = model.hyperparams.from_default(device=model.device)\n",
    "\n",
    "# Simulate\n",
    "t_s = time.perf_counter()\n",
    "model.simulate(def_params, batch_size=1, pbar=True)\n",
    "print(f\"{model.model_name} simulated in\", time.perf_counter()-t_s, \"seconds\")\n",
    "\n",
    "# Compute Stats\n",
    "t_s = time.perf_counter()\n",
    "stats = model.compute_stats(objective)\n",
    "print(f\"{model.model_name} stats computed in\", time.perf_counter()-t_s, \"seconds\")\n",
    "print(\"Baseline parameters produced\", objective, \"=\", stats[\"overall_\"+objective+\"_min\"])\n",
    "\n",
    "print(f\"Graphing {model.model_name}\")\n",
    "seqs = model.get_seqs(num_samples=0,method=\"sequential\")\n",
    "model.plot_sim_results(seqs,out_dir=\"results/\"+model.model_name+\"_default\", label=\"default\", show=False, debug=False)"
   ]
  },
  {
   "cell_type": "code",
   "execution_count": 5,
   "metadata": {
    "tags": []
   },
   "outputs": [
    {
     "name": "stdout",
     "output_type": "stream",
     "text": [
      "s_ego_pred_rmsne\n"
     ]
    },
    {
     "name": "stderr",
     "output_type": "stream",
     "text": [
      "Generations Progress:   0%|          | 0/200 [00:00<?, ?it/s]/miniconda/envs/SURE/lib/python3.11/site-packages/pygad/pygad.py:728: UserWarning: The percentage of genes to mutate (mutation_percent_genes=10) resulted in selecting (0) genes. The number of genes to mutate is set to 1 (mutation_num_genes=1).\n",
      "If you do not want to mutate any gene, please set mutation_type=None.\n",
      "  warnings.warn(\n",
      "/miniconda/envs/SURE/lib/python3.11/site-packages/pygad/pygad.py:1139: UserWarning: The 'delay_after_gen' parameter is deprecated starting from PyGAD 3.3.0. To delay or pause the evolution after each generation, assign a callback function/method to the 'on_generation' parameter to adds some time delay.\n",
      "  warnings.warn(\"The 'delay_after_gen' parameter is deprecated starting from PyGAD 3.3.0. To delay or pause the evolution after each generation, assign a callback function/method to the 'on_generation' parameter to adds some time delay.\")\n"
     ]
    },
    {
     "name": "stdout",
     "output_type": "stream",
     "text": [
      "GA Optimizing with batch size 256\n"
     ]
    },
    {
     "name": "stderr",
     "output_type": "stream",
     "text": [
      "Generations Progress: 100%|██████████| 200/200 [9:13:24<00:00, 166.02s/it]  "
     ]
    },
    {
     "name": "stdout",
     "output_type": "stream",
     "text": [
      "GA found minimized s_ego_pred_rmsne for ACC at 0.4332296550273895\n",
      "- Parameters found: [ 1.35105629  1.30290699  2.22532797  1.25295256 13.86810631  4.\n",
      "  0.99      ]\n"
     ]
    },
    {
     "name": "stderr",
     "output_type": "stream",
     "text": [
      "\n",
      "100%|██████████| 56/56 [00:39<00:00,  1.42it/s]\n"
     ]
    }
   ],
   "source": [
    "RETUNE = True\n",
    "\n",
    "# RMSE_best_params = [7.76867867, 1.97889304, 3.29437906, 2.93759704, 5., 4.,  0.6701991 ]  # From a previous tune cycle\n",
    "\n",
    "# RMSNE\n",
    "# best_params = [8.4097757,  6.70674908, 1.23848021, 2.43299818,5,4,0.99]\n",
    "best_params = [ 1.35105629,  1.30290699,  2.22532797,  1.25295256, 13.86810631,  4, 0.99 ]\n",
    "objective = \"s_ego_pred_rmsne\"\n",
    "\n",
    "if RETUNE == True:\n",
    "    best_params = model.ga_calibrate(objective, sol_size=2048, batch_size=256, num_generations=200)\n",
    "\n",
    "opt_params = model.hyperparams.from_array(best_params, model.device)\n",
    "model.simulate(opt_params, batch_size=1)\n",
    "stats = model.compute_stats(objective)\n",
    "\n",
    "seqs = model.get_seqs(num_samples=0, method=\"sequential\")\n",
    "model.plot_sim_results(seqs, out_dir=\"results/\"+model.model_name+\"_overall_optimized\", label=\"overall_best\", show=False, debug=False)"
   ]
  },
  {
   "cell_type": "code",
   "execution_count": 6,
   "metadata": {},
   "outputs": [
    {
     "name": "stderr",
     "output_type": "stream",
     "text": [
      "100%|██████████| 7/7 [13:19<00:00, 114.23s/it]"
     ]
    },
    {
     "name": "stdout",
     "output_type": "stream",
     "text": [
      "Plotting Per-Param Optimize Result\n"
     ]
    },
    {
     "name": "stderr",
     "output_type": "stream",
     "text": [
      "\n"
     ]
    },
    {
     "data": {
      "image/png": "[encoded data removed]",
      "text/plain": [
       "<Figure size 1200x800 with 1 Axes>"
      ]
     },
     "metadata": {},
     "output_type": "display_data"
    },
    {
     "data": {
      "text/plain": [
       "<Figure size 640x480 with 0 Axes>"
      ]
     },
     "metadata": {},
     "output_type": "display_data"
    }
   ],
   "source": [
    "objective = \"s_ego_pred_rmsne\"\n",
    "opt_dict = model.per_param_optimize(best_params, objective)\n",
    "model.plot_per_param_opt_overview(opt_dict)"
   ]
  },
  {
   "cell_type": "code",
   "execution_count": 7,
   "metadata": {
    "tags": []
   },
   "outputs": [
    {
     "ename": "TypeError",
     "evalue": "ParamBaseModelBatch.get_seqs() got an unexpected keyword argument 'groups'",
     "output_type": "error",
     "traceback": [
      "\u001b[0;31m---------------------------------------------------------------------------\u001b[0m",
      "\u001b[0;31mTypeError\u001b[0m                                 Traceback (most recent call last)",
      "Cell \u001b[0;32mIn[7], line 1\u001b[0m\n\u001b[0;32m----> 1\u001b[0m \u001b[43mmodel\u001b[49m\u001b[38;5;241;43m.\u001b[39;49m\u001b[43mplot_per_param_opt_indv\u001b[49m\u001b[43m(\u001b[49m\u001b[43mopt_dict\u001b[49m\u001b[43m,\u001b[49m\u001b[43m \u001b[49m\u001b[43mbest_idx\u001b[49m\u001b[38;5;241;43m=\u001b[39;49m\u001b[38;5;241;43m3\u001b[39;49m\u001b[43m)\u001b[49m\n",
      "File \u001b[0;32m/jupyter/SURE/param_models/param_base_model.py:1073\u001b[0m, in \u001b[0;36mParamBaseModelBatch.plot_per_param_opt_indv\u001b[0;34m(self, opt_dict, best_idx)\u001b[0m\n\u001b[1;32m   1071\u001b[0m \u001b[38;5;28mself\u001b[39m\u001b[38;5;241m.\u001b[39msimulate(indv_params, batch_size\u001b[38;5;241m=\u001b[39m\u001b[38;5;241m1\u001b[39m)\n\u001b[1;32m   1072\u001b[0m \u001b[38;5;66;03m# stats = self.compute_stats(opt_dict[\"objective\"])\u001b[39;00m\n\u001b[0;32m-> 1073\u001b[0m seqs \u001b[38;5;241m=\u001b[39m \u001b[38;5;28;43mself\u001b[39;49m\u001b[38;5;241;43m.\u001b[39;49m\u001b[43mget_seqs\u001b[49m\u001b[43m(\u001b[49m\u001b[43mnum_samples\u001b[49m\u001b[38;5;241;43m=\u001b[39;49m\u001b[38;5;241;43m0\u001b[39;49m\u001b[43m,\u001b[49m\u001b[43mgroups\u001b[49m\u001b[38;5;241;43m=\u001b[39;49m\u001b[43m[\u001b[49m\u001b[38;5;124;43m\"\u001b[39;49m\u001b[38;5;124;43mjam\u001b[39;49m\u001b[38;5;124;43m\"\u001b[39;49m\u001b[43m]\u001b[49m\u001b[43m,\u001b[49m\u001b[43m \u001b[49m\u001b[43mmethod\u001b[49m\u001b[38;5;241;43m=\u001b[39;49m\u001b[38;5;124;43m\"\u001b[39;49m\u001b[38;5;124;43msequential\u001b[39;49m\u001b[38;5;124;43m\"\u001b[39;49m\u001b[43m)\u001b[49m\n\u001b[1;32m   1074\u001b[0m \u001b[38;5;28mself\u001b[39m\u001b[38;5;241m.\u001b[39mplot_sim_results(seqs, out_dir\u001b[38;5;241m=\u001b[39m\u001b[38;5;124m\"\u001b[39m\u001b[38;5;124mresults/\u001b[39m\u001b[38;5;124m\"\u001b[39m\u001b[38;5;241m+\u001b[39m\u001b[38;5;28mself\u001b[39m\u001b[38;5;241m.\u001b[39mmodel_name\u001b[38;5;241m+\u001b[39m\u001b[38;5;124m\"\u001b[39m\u001b[38;5;124m_per_param_opt\u001b[39m\u001b[38;5;124m\"\u001b[39m, label\u001b[38;5;241m=\u001b[39m\u001b[38;5;124m\"\u001b[39m\u001b[38;5;124mper_param_best\u001b[39m\u001b[38;5;124m\"\u001b[39m, show\u001b[38;5;241m=\u001b[39m\u001b[38;5;28;01mFalse\u001b[39;00m, debug\u001b[38;5;241m=\u001b[39m\u001b[38;5;28;01mFalse\u001b[39;00m)\n",
      "\u001b[0;31mTypeError\u001b[0m: ParamBaseModelBatch.get_seqs() got an unexpected keyword argument 'groups'"
     ]
    }
   ],
   "source": [
    "model.plot_per_param_opt_indv(opt_dict, best_idx=3)"
   ]
  }
 ],
 "metadata": {
  "kernelspec": {
   "display_name": "SURE",
   "language": "python",
   "name": "python3"
  },
  "language_info": {
   "codemirror_mode": {
    "name": "ipython",
    "version": 3
   },
   "file_extension": ".py",
   "mimetype": "text/x-python",
   "name": "python",
   "nbconvert_exporter": "python",
   "pygments_lexer": "ipython3",
   "version": "3.12.0"
  }
 },
 "nbformat": 4,
 "nbformat_minor": 4
}
