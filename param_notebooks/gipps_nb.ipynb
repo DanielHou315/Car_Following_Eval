{
 "cells": [
  {
   "cell_type": "markdown",
   "metadata": {},
   "source": [
    "# Gipps Model Notebook (Done)"
   ]
  },
  {
   "cell_type": "code",
   "execution_count": 1,
   "metadata": {
    "tags": []
   },
   "outputs": [],
   "source": [
    "%load_ext autoreload\n",
    "%autoreload 2"
   ]
  },
  {
   "cell_type": "code",
   "execution_count": 2,
   "metadata": {
    "tags": []
   },
   "outputs": [
    {
     "name": "stdout",
     "output_type": "stream",
     "text": [
      "Datast Loaded. Preview of dataset: \n",
      "   driver  trip  congestion  cf_idx  type    time   speed  distance  \\\n",
      "0       1    53           0       0     0  1698.8  6.3472   33011.0   \n",
      "1       1    53           0       0     0  1698.9  6.3194   33012.0   \n",
      "2       1    53           0       0     0  1699.0  6.3083   33013.0   \n",
      "3       1    53           0       0     0  1699.1  6.2556   33013.0   \n",
      "4       1    53           0       0     0  1699.2  6.2389   33014.0   \n",
      "\n",
      "   accelpedal  brakepedal  ...  timeHeadway  VL_theta  VL_dtheta  lv_speed  \\\n",
      "0         0.0           1  ...     2.294240  0.137128   0.009974    5.2847   \n",
      "1         0.0           1  ...     2.304333  0.137128   0.009974    5.2569   \n",
      "2         0.0           1  ...     2.278744  0.138907   0.009632    5.3083   \n",
      "3         0.0           1  ...     2.277959  0.140121   0.009801    5.2556   \n",
      "4         0.0           1  ...     2.264021  0.141357   0.010598    5.1764   \n",
      "\n",
      "     lv_Ax  distanceCalibrated   lv_distance  timeSinceCF  distanceSinceCF  \\\n",
      "0  0.00000        32923.113447  32937.675447          0.0         0.000000   \n",
      "1 -0.27800        32923.743692  32938.305692          0.1         0.630245   \n",
      "2  0.11800        32924.372831  32938.747831          0.2         1.259384   \n",
      "3 -0.09700        32924.996713  32939.246713          0.3         1.883266   \n",
      "4 -0.27075        32925.618930  32939.743930          0.4         2.505483   \n",
      "\n",
      "   lv_distanceSinceCF  \n",
      "0           14.562000  \n",
      "1           15.192245  \n",
      "2           15.634384  \n",
      "3           16.133266  \n",
      "4           16.630483  \n",
      "\n",
      "[5 rows x 30 columns]\n",
      "Dataset Summary:\n",
      "\n",
      "- A total of 72 congestions\n",
      "- 24 congestions with 77216 data points\n",
      "- 24 pre-congestions with 70563 data points\n",
      "- 24 post-congestions with 71394 data points\n",
      "\n",
      "- A total of 262 car following evengts\n",
      "- 60 cf events with 74408 data points\n",
      "- 95 pre-cf events with 56112 data points\n",
      "- 107 post-cf events with 57346 data points\n",
      "\n",
      "- A total of 85.72% are car following\n",
      "- 96.36 are car following jams\n",
      "- 79.52 are car following pre-jams\n",
      "- 80.32 are car following post-jams\n",
      "\n"
     ]
    }
   ],
   "source": [
    "from data.param_data_loader2 import ParamDL2\n",
    "dataset = ParamDL2()\n",
    "\n",
    "dataset.summarize()"
   ]
  },
  {
   "cell_type": "code",
   "execution_count": 3,
   "metadata": {
    "tags": []
   },
   "outputs": [],
   "source": [
    "# Import models, before other cells, so there is no need to rerun some tests\n",
    "from param_models import *\n",
    "model = BatchGipps(dataset, seqs=[\"jam\"], mode='gpu')"
   ]
  },
  {
   "cell_type": "code",
   "execution_count": 4,
   "metadata": {
    "tags": []
   },
   "outputs": [
    {
     "name": "stderr",
     "output_type": "stream",
     "text": [
      "100%|██████████| 6268/6268 [00:05<00:00, 1209.75it/s]\n"
     ]
    },
    {
     "name": "stdout",
     "output_type": "stream",
     "text": [
      "Gipps simulated in 5.1845505079836585 seconds\n",
      "Gipps stats computed in 0.03407053300179541 seconds\n",
      "Baseline parameters produced s_ego_pred_rmsne = tensor(1.7249, device='cuda:0')\n",
      "Graphing Gipps\n"
     ]
    },
    {
     "name": "stderr",
     "output_type": "stream",
     "text": [
      "100%|██████████| 60/60 [00:33<00:00,  1.77it/s]\n"
     ]
    }
   ],
   "source": [
    "import time\n",
    "# Test using RMSE over Gap\n",
    "objective = \"s_ego_pred_rmsne\"\n",
    "\n",
    "# Simulate and verify that it works\n",
    "def_params = model.hyperparams.from_default(device=model.device)\n",
    "\n",
    "# Simulate\n",
    "t_s = time.perf_counter()\n",
    "model.simulate(def_params, batch_size=1, pbar=True)\n",
    "print(f\"{model.model_name} simulated in\", time.perf_counter()-t_s, \"seconds\")\n",
    "\n",
    "# Compute Stats\n",
    "t_s = time.perf_counter()\n",
    "stats = model.compute_stats(objective)\n",
    "print(f\"{model.model_name} stats computed in\", time.perf_counter()-t_s, \"seconds\")\n",
    "print(\"Baseline parameters produced\", objective, \"=\", stats[\"jam_\"+objective+\"_min\"])\n",
    "\n",
    "print(f\"Graphing {model.model_name}\")\n",
    "seqs = model.get_seqs(num_samples=0,groups=[\"jam\"], method=\"sequential\")\n",
    "model.plot_sim_results(seqs,out_dir=\"results/\"+model.model_name+\"_default\", label=\"default\", show=False, debug=False)"
   ]
  },
  {
   "cell_type": "code",
   "execution_count": 5,
   "metadata": {
    "tags": []
   },
   "outputs": [
    {
     "name": "stderr",
     "output_type": "stream",
     "text": [
      "Generations Progress:   0%|          | 0/500 [00:00<?, ?it/s]/miniconda/envs/SURE/lib/python3.11/site-packages/pygad/pygad.py:728: UserWarning: The percentage of genes to mutate (mutation_percent_genes=10) resulted in selecting (0) genes. The number of genes to mutate is set to 1 (mutation_num_genes=1).\n",
      "If you do not want to mutate any gene, please set mutation_type=None.\n",
      "  warnings.warn(\n",
      "/miniconda/envs/SURE/lib/python3.11/site-packages/pygad/pygad.py:1139: UserWarning: The 'delay_after_gen' parameter is deprecated starting from PyGAD 3.3.0. To delay or pause the evolution after each generation, assign a callback function/method to the 'on_generation' parameter to adds some time delay.\n",
      "  warnings.warn(\"The 'delay_after_gen' parameter is deprecated starting from PyGAD 3.3.0. To delay or pause the evolution after each generation, assign a callback function/method to the 'on_generation' parameter to adds some time delay.\")\n"
     ]
    },
    {
     "name": "stdout",
     "output_type": "stream",
     "text": [
      "GA Optimizing with batch size 256\n"
     ]
    },
    {
     "name": "stderr",
     "output_type": "stream",
     "text": [
      "Generations Progress: 100%|██████████| 500/500 [2:12:34<00:00, 15.91s/it]  "
     ]
    },
    {
     "name": "stdout",
     "output_type": "stream",
     "text": [
      "GA found minimized s_ego_pred_rmsne for Gipps at 0.4216262698173523\n",
      "- Parameters found: [  3.48966739 -10.           1.02        12.48262406   1.76587988\n",
      "  -9.43270933]\n"
     ]
    },
    {
     "name": "stderr",
     "output_type": "stream",
     "text": [
      "\n",
      "100%|██████████| 60/60 [00:37<00:00,  1.62it/s]\n"
     ]
    }
   ],
   "source": [
    "RETUNE = True\n",
    "\n",
    "# best_params = [ 5.04572353, -6.35364589,  1.02,       49.99725976,  3.96971216, -8.19400512]  # From a previous tune cycle\n",
    "best_params = [  3.48966739, -10.,           1.02,        12.48262406,   1.76587988, -9.43270933]\n",
    "objective = \"s_ego_pred_rmsne\"\n",
    "\n",
    "if RETUNE == True:\n",
    "    best_params = model.ga_calibrate(objective, \"jam\", sol_size=1024, batch_size=256, num_generations=500)\n",
    "\n",
    "opt_params = model.hyperparams.from_array(best_params, model.device)\n",
    "model.simulate(opt_params, batch_size=1)\n",
    "stats = model.compute_stats(objective)\n",
    "\n",
    "seqs = model.get_seqs(num_samples=0,groups=[\"jam\"], method=\"sequential\")\n",
    "model.plot_sim_results(seqs, out_dir=\"results/\"+model.model_name+\"_overall_optimized\", label=\"overall_best\", show=False, debug=False)"
   ]
  },
  {
   "cell_type": "code",
   "execution_count": 6,
   "metadata": {},
   "outputs": [
    {
     "name": "stderr",
     "output_type": "stream",
     "text": [
      "100%|██████████| 6/6 [02:40<00:00, 26.67s/it]"
     ]
    },
    {
     "name": "stdout",
     "output_type": "stream",
     "text": [
      "Plotting Per-Param Optimize Result\n"
     ]
    },
    {
     "name": "stderr",
     "output_type": "stream",
     "text": [
      "\n"
     ]
    },
    {
     "data": {
      "image/png": "[encoded data removed]",
      "text/plain": [
       "<Figure size 1200x800 with 1 Axes>"
      ]
     },
     "metadata": {},
     "output_type": "display_data"
    },
    {
     "data": {
      "text/plain": [
       "<Figure size 640x480 with 0 Axes>"
      ]
     },
     "metadata": {},
     "output_type": "display_data"
    }
   ],
   "source": [
    "objective = \"s_ego_pred_rmsne\"\n",
    "opt_dict = model.per_param_optimize(best_params, objective)\n",
    "model.plot_per_param_opt_overview(opt_dict)"
   ]
  },
  {
   "cell_type": "code",
   "execution_count": 7,
   "metadata": {
    "tags": []
   },
   "outputs": [
    {
     "name": "stderr",
     "output_type": "stream",
     "text": [
      "100%|██████████| 60/60 [00:36<00:00,  1.67it/s]\n"
     ]
    }
   ],
   "source": [
    "model.plot_per_param_opt_indv(opt_dict, best_idx=5)"
   ]
  },
  {
   "cell_type": "code",
   "execution_count": null,
   "metadata": {},
   "outputs": [],
   "source": []
  }
 ],
 "metadata": {
  "kernelspec": {
   "display_name": "Python3 (SURE)",
   "language": "python",
   "name": "sure"
  },
  "language_info": {
   "codemirror_mode": {
    "name": "ipython",
    "version": 3
   },
   "file_extension": ".py",
   "mimetype": "text/x-python",
   "name": "python",
   "nbconvert_exporter": "python",
   "pygments_lexer": "ipython3",
   "version": "3.11.0"
  }
 },
 "nbformat": 4,
 "nbformat_minor": 4
}
